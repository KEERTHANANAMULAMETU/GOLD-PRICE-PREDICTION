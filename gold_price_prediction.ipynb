{
  "nbformat": 4,
  "nbformat_minor": 0,
  "metadata": {
    "colab": {
      "name": "gold price prediction.ipynb",
      "provenance": [],
      "collapsed_sections": []
    },
    "kernelspec": {
      "name": "python3",
      "display_name": "Python 3"
    },
    "language_info": {
      "name": "python"
    }
  },
  "cells": [
    {
      "cell_type": "code",
      "metadata": {
        "id": "vujuhJF6WrJK"
      },
      "source": [
        "import numpy as np\n",
        "import pandas as pd\n",
        "import matplotlib.pyplot as plt\n",
        "import seaborn as sns\n",
        "from sklearn.model_selection import train_test_split\n",
        "from sklearn.ensemble import RandomForestRegressor\n",
        "from sklearn import metrics"
      ],
      "execution_count": 3,
      "outputs": []
    },
    {
      "cell_type": "code",
      "metadata": {
        "id": "3A0yJKjoYYJK"
      },
      "source": [
        "# loading the csv data to a Pandas DataFrame\n",
        "data = pd.read_csv('/content/gld_price_data.csv')"
      ],
      "execution_count": 12,
      "outputs": []
    },
    {
      "cell_type": "code",
      "metadata": {
        "colab": {
          "base_uri": "https://localhost:8080/",
          "height": 203
        },
        "id": "fpI8BkXnY4cl",
        "outputId": "ad417fee-7dcd-4858-a4ce-d1582c378d71"
      },
      "source": [
        "# print first 5 rows in the dataframe\n",
        "data.head()"
      ],
      "execution_count": 13,
      "outputs": [
        {
          "output_type": "execute_result",
          "data": {
            "text/html": [
              "<div>\n",
              "<style scoped>\n",
              "    .dataframe tbody tr th:only-of-type {\n",
              "        vertical-align: middle;\n",
              "    }\n",
              "\n",
              "    .dataframe tbody tr th {\n",
              "        vertical-align: top;\n",
              "    }\n",
              "\n",
              "    .dataframe thead th {\n",
              "        text-align: right;\n",
              "    }\n",
              "</style>\n",
              "<table border=\"1\" class=\"dataframe\">\n",
              "  <thead>\n",
              "    <tr style=\"text-align: right;\">\n",
              "      <th></th>\n",
              "      <th>Date</th>\n",
              "      <th>SPX</th>\n",
              "      <th>GLD</th>\n",
              "      <th>USO</th>\n",
              "      <th>SLV</th>\n",
              "      <th>EUR/USD</th>\n",
              "    </tr>\n",
              "  </thead>\n",
              "  <tbody>\n",
              "    <tr>\n",
              "      <th>0</th>\n",
              "      <td>1/2/2008</td>\n",
              "      <td>1447.160034</td>\n",
              "      <td>84.860001</td>\n",
              "      <td>78.470001</td>\n",
              "      <td>15.180</td>\n",
              "      <td>1.471692</td>\n",
              "    </tr>\n",
              "    <tr>\n",
              "      <th>1</th>\n",
              "      <td>1/3/2008</td>\n",
              "      <td>1447.160034</td>\n",
              "      <td>85.570000</td>\n",
              "      <td>78.370003</td>\n",
              "      <td>15.285</td>\n",
              "      <td>1.474491</td>\n",
              "    </tr>\n",
              "    <tr>\n",
              "      <th>2</th>\n",
              "      <td>1/4/2008</td>\n",
              "      <td>1411.630005</td>\n",
              "      <td>85.129997</td>\n",
              "      <td>77.309998</td>\n",
              "      <td>15.167</td>\n",
              "      <td>1.475492</td>\n",
              "    </tr>\n",
              "    <tr>\n",
              "      <th>3</th>\n",
              "      <td>1/7/2008</td>\n",
              "      <td>1416.180054</td>\n",
              "      <td>84.769997</td>\n",
              "      <td>75.500000</td>\n",
              "      <td>15.053</td>\n",
              "      <td>1.468299</td>\n",
              "    </tr>\n",
              "    <tr>\n",
              "      <th>4</th>\n",
              "      <td>1/8/2008</td>\n",
              "      <td>1390.189941</td>\n",
              "      <td>86.779999</td>\n",
              "      <td>76.059998</td>\n",
              "      <td>15.590</td>\n",
              "      <td>1.557099</td>\n",
              "    </tr>\n",
              "  </tbody>\n",
              "</table>\n",
              "</div>"
            ],
            "text/plain": [
              "       Date          SPX        GLD        USO     SLV   EUR/USD\n",
              "0  1/2/2008  1447.160034  84.860001  78.470001  15.180  1.471692\n",
              "1  1/3/2008  1447.160034  85.570000  78.370003  15.285  1.474491\n",
              "2  1/4/2008  1411.630005  85.129997  77.309998  15.167  1.475492\n",
              "3  1/7/2008  1416.180054  84.769997  75.500000  15.053  1.468299\n",
              "4  1/8/2008  1390.189941  86.779999  76.059998  15.590  1.557099"
            ]
          },
          "metadata": {},
          "execution_count": 13
        }
      ]
    },
    {
      "cell_type": "code",
      "metadata": {
        "colab": {
          "base_uri": "https://localhost:8080/",
          "height": 203
        },
        "id": "YAQMd0N1ZreX",
        "outputId": "9ad899d8-c05b-413e-d376-08e4d6077860"
      },
      "source": [
        "# print last 5 rows of the dataframe\n",
        "data.tail()"
      ],
      "execution_count": 14,
      "outputs": [
        {
          "output_type": "execute_result",
          "data": {
            "text/html": [
              "<div>\n",
              "<style scoped>\n",
              "    .dataframe tbody tr th:only-of-type {\n",
              "        vertical-align: middle;\n",
              "    }\n",
              "\n",
              "    .dataframe tbody tr th {\n",
              "        vertical-align: top;\n",
              "    }\n",
              "\n",
              "    .dataframe thead th {\n",
              "        text-align: right;\n",
              "    }\n",
              "</style>\n",
              "<table border=\"1\" class=\"dataframe\">\n",
              "  <thead>\n",
              "    <tr style=\"text-align: right;\">\n",
              "      <th></th>\n",
              "      <th>Date</th>\n",
              "      <th>SPX</th>\n",
              "      <th>GLD</th>\n",
              "      <th>USO</th>\n",
              "      <th>SLV</th>\n",
              "      <th>EUR/USD</th>\n",
              "    </tr>\n",
              "  </thead>\n",
              "  <tbody>\n",
              "    <tr>\n",
              "      <th>2285</th>\n",
              "      <td>5/8/2018</td>\n",
              "      <td>2671.919922</td>\n",
              "      <td>124.589996</td>\n",
              "      <td>14.0600</td>\n",
              "      <td>15.5100</td>\n",
              "      <td>1.186789</td>\n",
              "    </tr>\n",
              "    <tr>\n",
              "      <th>2286</th>\n",
              "      <td>5/9/2018</td>\n",
              "      <td>2697.790039</td>\n",
              "      <td>124.330002</td>\n",
              "      <td>14.3700</td>\n",
              "      <td>15.5300</td>\n",
              "      <td>1.184722</td>\n",
              "    </tr>\n",
              "    <tr>\n",
              "      <th>2287</th>\n",
              "      <td>5/10/2018</td>\n",
              "      <td>2723.070068</td>\n",
              "      <td>125.180000</td>\n",
              "      <td>14.4100</td>\n",
              "      <td>15.7400</td>\n",
              "      <td>1.191753</td>\n",
              "    </tr>\n",
              "    <tr>\n",
              "      <th>2288</th>\n",
              "      <td>5/14/2018</td>\n",
              "      <td>2730.129883</td>\n",
              "      <td>124.489998</td>\n",
              "      <td>14.3800</td>\n",
              "      <td>15.5600</td>\n",
              "      <td>1.193118</td>\n",
              "    </tr>\n",
              "    <tr>\n",
              "      <th>2289</th>\n",
              "      <td>5/16/2018</td>\n",
              "      <td>2725.780029</td>\n",
              "      <td>122.543800</td>\n",
              "      <td>14.4058</td>\n",
              "      <td>15.4542</td>\n",
              "      <td>1.182033</td>\n",
              "    </tr>\n",
              "  </tbody>\n",
              "</table>\n",
              "</div>"
            ],
            "text/plain": [
              "           Date          SPX         GLD      USO      SLV   EUR/USD\n",
              "2285   5/8/2018  2671.919922  124.589996  14.0600  15.5100  1.186789\n",
              "2286   5/9/2018  2697.790039  124.330002  14.3700  15.5300  1.184722\n",
              "2287  5/10/2018  2723.070068  125.180000  14.4100  15.7400  1.191753\n",
              "2288  5/14/2018  2730.129883  124.489998  14.3800  15.5600  1.193118\n",
              "2289  5/16/2018  2725.780029  122.543800  14.4058  15.4542  1.182033"
            ]
          },
          "metadata": {},
          "execution_count": 14
        }
      ]
    },
    {
      "cell_type": "code",
      "metadata": {
        "colab": {
          "base_uri": "https://localhost:8080/"
        },
        "id": "TWP2wUg_ZxBQ",
        "outputId": "2bcb1a2d-dc68-4537-a161-55c1ee5b3f2a"
      },
      "source": [
        "# number of rows and columns\n",
        "data.shape"
      ],
      "execution_count": 15,
      "outputs": [
        {
          "output_type": "execute_result",
          "data": {
            "text/plain": [
              "(2290, 6)"
            ]
          },
          "metadata": {},
          "execution_count": 15
        }
      ]
    },
    {
      "cell_type": "code",
      "metadata": {
        "colab": {
          "base_uri": "https://localhost:8080/"
        },
        "id": "5Ivhms7KZ2U8",
        "outputId": "33bae1f2-8a15-44a9-b4f3-368755e90991"
      },
      "source": [
        "# getting some basic informations about the data\n",
        "data.info()"
      ],
      "execution_count": 16,
      "outputs": [
        {
          "output_type": "stream",
          "name": "stdout",
          "text": [
            "<class 'pandas.core.frame.DataFrame'>\n",
            "RangeIndex: 2290 entries, 0 to 2289\n",
            "Data columns (total 6 columns):\n",
            " #   Column   Non-Null Count  Dtype  \n",
            "---  ------   --------------  -----  \n",
            " 0   Date     2290 non-null   object \n",
            " 1   SPX      2290 non-null   float64\n",
            " 2   GLD      2290 non-null   float64\n",
            " 3   USO      2290 non-null   float64\n",
            " 4   SLV      2290 non-null   float64\n",
            " 5   EUR/USD  2290 non-null   float64\n",
            "dtypes: float64(5), object(1)\n",
            "memory usage: 107.5+ KB\n"
          ]
        }
      ]
    },
    {
      "cell_type": "code",
      "metadata": {
        "colab": {
          "base_uri": "https://localhost:8080/"
        },
        "id": "wfHw1oZKZ7_z",
        "outputId": "bb4541ea-f463-4d4c-91a4-86b93ba7febb"
      },
      "source": [
        "# checking the number of missing values\n",
        "data.isnull().sum()"
      ],
      "execution_count": 17,
      "outputs": [
        {
          "output_type": "execute_result",
          "data": {
            "text/plain": [
              "Date       0\n",
              "SPX        0\n",
              "GLD        0\n",
              "USO        0\n",
              "SLV        0\n",
              "EUR/USD    0\n",
              "dtype: int64"
            ]
          },
          "metadata": {},
          "execution_count": 17
        }
      ]
    },
    {
      "cell_type": "code",
      "metadata": {
        "colab": {
          "base_uri": "https://localhost:8080/",
          "height": 295
        },
        "id": "Ea8npC7maBtI",
        "outputId": "1de11f4f-7462-44ff-d94b-45c5e8f78f5c"
      },
      "source": [
        "# getting the statistical measures of the data\n",
        "data.describe()"
      ],
      "execution_count": 18,
      "outputs": [
        {
          "output_type": "execute_result",
          "data": {
            "text/html": [
              "<div>\n",
              "<style scoped>\n",
              "    .dataframe tbody tr th:only-of-type {\n",
              "        vertical-align: middle;\n",
              "    }\n",
              "\n",
              "    .dataframe tbody tr th {\n",
              "        vertical-align: top;\n",
              "    }\n",
              "\n",
              "    .dataframe thead th {\n",
              "        text-align: right;\n",
              "    }\n",
              "</style>\n",
              "<table border=\"1\" class=\"dataframe\">\n",
              "  <thead>\n",
              "    <tr style=\"text-align: right;\">\n",
              "      <th></th>\n",
              "      <th>SPX</th>\n",
              "      <th>GLD</th>\n",
              "      <th>USO</th>\n",
              "      <th>SLV</th>\n",
              "      <th>EUR/USD</th>\n",
              "    </tr>\n",
              "  </thead>\n",
              "  <tbody>\n",
              "    <tr>\n",
              "      <th>count</th>\n",
              "      <td>2290.000000</td>\n",
              "      <td>2290.000000</td>\n",
              "      <td>2290.000000</td>\n",
              "      <td>2290.000000</td>\n",
              "      <td>2290.000000</td>\n",
              "    </tr>\n",
              "    <tr>\n",
              "      <th>mean</th>\n",
              "      <td>1654.315776</td>\n",
              "      <td>122.732875</td>\n",
              "      <td>31.842221</td>\n",
              "      <td>20.084997</td>\n",
              "      <td>1.283653</td>\n",
              "    </tr>\n",
              "    <tr>\n",
              "      <th>std</th>\n",
              "      <td>519.111540</td>\n",
              "      <td>23.283346</td>\n",
              "      <td>19.523517</td>\n",
              "      <td>7.092566</td>\n",
              "      <td>0.131547</td>\n",
              "    </tr>\n",
              "    <tr>\n",
              "      <th>min</th>\n",
              "      <td>676.530029</td>\n",
              "      <td>70.000000</td>\n",
              "      <td>7.960000</td>\n",
              "      <td>8.850000</td>\n",
              "      <td>1.039047</td>\n",
              "    </tr>\n",
              "    <tr>\n",
              "      <th>25%</th>\n",
              "      <td>1239.874969</td>\n",
              "      <td>109.725000</td>\n",
              "      <td>14.380000</td>\n",
              "      <td>15.570000</td>\n",
              "      <td>1.171313</td>\n",
              "    </tr>\n",
              "    <tr>\n",
              "      <th>50%</th>\n",
              "      <td>1551.434998</td>\n",
              "      <td>120.580002</td>\n",
              "      <td>33.869999</td>\n",
              "      <td>17.268500</td>\n",
              "      <td>1.303296</td>\n",
              "    </tr>\n",
              "    <tr>\n",
              "      <th>75%</th>\n",
              "      <td>2073.010070</td>\n",
              "      <td>132.840004</td>\n",
              "      <td>37.827501</td>\n",
              "      <td>22.882499</td>\n",
              "      <td>1.369971</td>\n",
              "    </tr>\n",
              "    <tr>\n",
              "      <th>max</th>\n",
              "      <td>2872.870117</td>\n",
              "      <td>184.589996</td>\n",
              "      <td>117.480003</td>\n",
              "      <td>47.259998</td>\n",
              "      <td>1.598798</td>\n",
              "    </tr>\n",
              "  </tbody>\n",
              "</table>\n",
              "</div>"
            ],
            "text/plain": [
              "               SPX          GLD          USO          SLV      EUR/USD\n",
              "count  2290.000000  2290.000000  2290.000000  2290.000000  2290.000000\n",
              "mean   1654.315776   122.732875    31.842221    20.084997     1.283653\n",
              "std     519.111540    23.283346    19.523517     7.092566     0.131547\n",
              "min     676.530029    70.000000     7.960000     8.850000     1.039047\n",
              "25%    1239.874969   109.725000    14.380000    15.570000     1.171313\n",
              "50%    1551.434998   120.580002    33.869999    17.268500     1.303296\n",
              "75%    2073.010070   132.840004    37.827501    22.882499     1.369971\n",
              "max    2872.870117   184.589996   117.480003    47.259998     1.598798"
            ]
          },
          "metadata": {},
          "execution_count": 18
        }
      ]
    },
    {
      "cell_type": "code",
      "metadata": {
        "id": "G4D1_jy_aGoX"
      },
      "source": [
        "correlation = data.corr()"
      ],
      "execution_count": 19,
      "outputs": []
    },
    {
      "cell_type": "code",
      "metadata": {
        "colab": {
          "base_uri": "https://localhost:8080/",
          "height": 487
        },
        "id": "QsCaqUT-aNFO",
        "outputId": "231ce2c9-9b9f-4276-9bb6-93fc7ddc9b06"
      },
      "source": [
        "# constructing a heatmap to understand the correlatiom\n",
        "plt.figure(figsize = (8,8))\n",
        "sns.heatmap(correlation, cbar=True, square=True, fmt='.1f',annot=True, annot_kws={'size':8}, cmap='Blues')"
      ],
      "execution_count": 20,
      "outputs": [
        {
          "output_type": "execute_result",
          "data": {
            "text/plain": [
              "<matplotlib.axes._subplots.AxesSubplot at 0x7ffa33515d90>"
            ]
          },
          "metadata": {},
          "execution_count": 20
        },
        {
          "output_type": "display_data",
          "data": {
            "image/png": "[encoded data removed]",
            "text/plain": [
              "<Figure size 576x576 with 2 Axes>"
            ]
          },
          "metadata": {
            "needs_background": "light"
          }
        }
      ]
    },
    {
      "cell_type": "code",
      "metadata": {
        "colab": {
          "base_uri": "https://localhost:8080/"
        },
        "id": "6_-jv3AYaS0q",
        "outputId": "63a80bc2-d48f-4938-8cef-74de111c3ac0"
      },
      "source": [
        "# correlation values of GLD\n",
        "print(correlation['GLD'])"
      ],
      "execution_count": 21,
      "outputs": [
        {
          "output_type": "stream",
          "name": "stdout",
          "text": [
            "SPX        0.049345\n",
            "GLD        1.000000\n",
            "USO       -0.186360\n",
            "SLV        0.866632\n",
            "EUR/USD   -0.024375\n",
            "Name: GLD, dtype: float64\n"
          ]
        }
      ]
    },
    {
      "cell_type": "code",
      "metadata": {
        "colab": {
          "base_uri": "https://localhost:8080/",
          "height": 354
        },
        "id": "QYBW3I6GaX0J",
        "outputId": "be7feb79-bc9f-474b-a643-6ad3f29691f4"
      },
      "source": [
        "# checking the distribution of the GLD Price\n",
        "sns.distplot(data['GLD'],color='green')"
      ],
      "execution_count": 23,
      "outputs": [
        {
          "output_type": "stream",
          "name": "stderr",
          "text": [
            "/usr/local/lib/python3.7/dist-packages/seaborn/distributions.py:2619: FutureWarning: `distplot` is a deprecated function and will be removed in a future version. Please adapt your code to use either `displot` (a figure-level function with similar flexibility) or `histplot` (an axes-level function for histograms).\n",
            "  warnings.warn(msg, FutureWarning)\n"
          ]
        },
        {
          "output_type": "execute_result",
          "data": {
            "text/plain": [
              "<matplotlib.axes._subplots.AxesSubplot at 0x7ffa2503a810>"
            ]
          },
          "metadata": {},
          "execution_count": 23
        },
        {
          "output_type": "display_data",
          "data": {
            "image/png": "[encoded data removed]",
            "text/plain": [
              "<Figure size 432x288 with 1 Axes>"
            ]
          },
          "metadata": {
            "needs_background": "light"
          }
        }
      ]
    },
    {
      "cell_type": "code",
      "metadata": {
        "id": "IDnAtmZhacbG"
      },
      "source": [
        "X = data.drop(['Date','GLD'],axis=1)\n",
        "Y = data['GLD']"
      ],
      "execution_count": 24,
      "outputs": []
    },
    {
      "cell_type": "code",
      "metadata": {
        "colab": {
          "base_uri": "https://localhost:8080/"
        },
        "id": "5Q0s1gGUaljg",
        "outputId": "54c69bd1-e43b-4721-eab6-52cc55ea8c87"
      },
      "source": [
        "print(X)"
      ],
      "execution_count": 25,
      "outputs": [
        {
          "output_type": "stream",
          "name": "stdout",
          "text": [
            "              SPX        USO      SLV   EUR/USD\n",
            "0     1447.160034  78.470001  15.1800  1.471692\n",
            "1     1447.160034  78.370003  15.2850  1.474491\n",
            "2     1411.630005  77.309998  15.1670  1.475492\n",
            "3     1416.180054  75.500000  15.0530  1.468299\n",
            "4     1390.189941  76.059998  15.5900  1.557099\n",
            "...           ...        ...      ...       ...\n",
            "2285  2671.919922  14.060000  15.5100  1.186789\n",
            "2286  2697.790039  14.370000  15.5300  1.184722\n",
            "2287  2723.070068  14.410000  15.7400  1.191753\n",
            "2288  2730.129883  14.380000  15.5600  1.193118\n",
            "2289  2725.780029  14.405800  15.4542  1.182033\n",
            "\n",
            "[2290 rows x 4 columns]\n"
          ]
        }
      ]
    },
    {
      "cell_type": "code",
      "metadata": {
        "colab": {
          "base_uri": "https://localhost:8080/"
        },
        "id": "u8Rj3QlMapYn",
        "outputId": "645b391e-f949-4f5d-a0fd-2e775331d979"
      },
      "source": [
        "print(Y)"
      ],
      "execution_count": 26,
      "outputs": [
        {
          "output_type": "stream",
          "name": "stdout",
          "text": [
            "0        84.860001\n",
            "1        85.570000\n",
            "2        85.129997\n",
            "3        84.769997\n",
            "4        86.779999\n",
            "           ...    \n",
            "2285    124.589996\n",
            "2286    124.330002\n",
            "2287    125.180000\n",
            "2288    124.489998\n",
            "2289    122.543800\n",
            "Name: GLD, Length: 2290, dtype: float64\n"
          ]
        }
      ]
    },
    {
      "cell_type": "code",
      "metadata": {
        "id": "ATn9BXQjatLN"
      },
      "source": [
        "X_train, X_test, Y_train, Y_test = train_test_split(X, Y, test_size = 0.2, random_state=2)"
      ],
      "execution_count": 27,
      "outputs": []
    },
    {
      "cell_type": "code",
      "metadata": {
        "id": "TsYAYXagax5z"
      },
      "source": [
        "regressor = RandomForestRegressor(n_estimators=100)"
      ],
      "execution_count": 28,
      "outputs": []
    },
    {
      "cell_type": "code",
      "metadata": {
        "colab": {
          "base_uri": "https://localhost:8080/"
        },
        "id": "JlZYBOQGa61R",
        "outputId": "720eb0c5-a74a-48d6-a18e-be884eb20f54"
      },
      "source": [
        "# training the model\n",
        "regressor.fit(X_train,Y_train)"
      ],
      "execution_count": 29,
      "outputs": [
        {
          "output_type": "execute_result",
          "data": {
            "text/plain": [
              "RandomForestRegressor(bootstrap=True, ccp_alpha=0.0, criterion='mse',\n",
              "                      max_depth=None, max_features='auto', max_leaf_nodes=None,\n",
              "                      max_samples=None, min_impurity_decrease=0.0,\n",
              "                      min_impurity_split=None, min_samples_leaf=1,\n",
              "                      min_samples_split=2, min_weight_fraction_leaf=0.0,\n",
              "                      n_estimators=100, n_jobs=None, oob_score=False,\n",
              "                      random_state=None, verbose=0, warm_start=False)"
            ]
          },
          "metadata": {},
          "execution_count": 29
        }
      ]
    },
    {
      "cell_type": "code",
      "metadata": {
        "id": "JSSO8tARa_LS"
      },
      "source": [
        "# prediction on Test Data\n",
        "test_data_prediction = regressor.predict(X_test)"
      ],
      "execution_count": 30,
      "outputs": []
    },
    {
      "cell_type": "code",
      "metadata": {
        "colab": {
          "base_uri": "https://localhost:8080/"
        },
        "id": "tMEqNk2PbFPq",
        "outputId": "eaab6581-a2b6-4be3-f982-deb9e0f1aced"
      },
      "source": [
        "print(test_data_prediction)"
      ],
      "execution_count": 31,
      "outputs": [
        {
          "output_type": "stream",
          "name": "stdout",
          "text": [
            "[168.47959934  82.18459976 115.97140033 127.63830073 120.84940142\n",
            " 154.76179729 150.2187982  126.00560035 117.34679877 126.02610036\n",
            " 116.61450137 172.1595012  142.07639867 167.6861985  115.13419993\n",
            " 117.50670047 141.10590285 170.01600091 159.67020244 156.49629885\n",
            " 155.06660028 125.41819985 175.53759957 157.08210359 125.2206005\n",
            "  94.08250006  78.14299967 120.8068     119.18069946 167.55139924\n",
            "  88.08900037 125.39580009  91.19920103 117.76269972 121.12159917\n",
            " 137.04510077 115.56990116 114.77060106 147.97839949 106.9750006\n",
            " 104.17130263  87.29849793 126.46360037 118.01859993 153.1841991\n",
            " 119.52640007 108.34019995 108.11919878  93.18440044 127.0552979\n",
            "  75.2628004  113.61929939 121.59880016 111.03069909 118.9707989\n",
            " 120.6941995  160.26060035 170.21690066 146.88969679  86.07079861\n",
            "  94.47820027  86.89559868  90.42410007 118.7621008  126.37790105\n",
            " 127.5686     169.70359954 122.20679943 117.14819897  98.73120026\n",
            " 168.1503027  143.07809772 131.72830277 121.24950211 120.99699944\n",
            " 119.74480036 114.42780155 118.09180048 107.00940087 127.79890066\n",
            " 113.74700022 107.28850019 116.74140064 119.5255988   88.87670061\n",
            "  88.34129859 146.2741017  127.34929992 113.32440045 110.04829791\n",
            " 107.99709887  77.88299888 169.34410183 114.07429904 121.55979912\n",
            " 127.92720151 154.8629985   91.85959945 135.37340142 159.73420324\n",
            " 125.61930056 125.16460072 130.48140188 114.8458013  119.84210004\n",
            "  92.12029986 110.61769884 167.53779921 157.23029942 114.19359929\n",
            " 106.80880119  79.88739968 113.19920025 125.81790086 107.0655995\n",
            " 119.335101   156.27960399 159.77849887 120.28109999 134.60460306\n",
            " 101.3228     117.46189799 119.23820056 112.85670073 102.86249897\n",
            " 160.38979824  98.70050012 146.40109932 125.44140081 169.37809939\n",
            " 125.77969867 127.26369781 127.41030172 113.64979964 112.82970047\n",
            " 123.59149902 102.21009899  89.15119979 124.60449949 101.47509919\n",
            " 107.11879917 113.63980078 117.20690081  99.4441997  121.77660017\n",
            " 163.62609916  87.4065986  106.93699941 117.06860095 127.63920145\n",
            " 124.24710079  80.65639903 120.63130103 157.77759777  87.8252996\n",
            " 110.05239931 118.76759915 172.36879852 103.04089934 105.71220042\n",
            " 122.76170058 158.05519755  87.46629854  92.94970063 112.86900032\n",
            " 177.35739933 114.27219974 119.26950047  94.52850054 125.46590042\n",
            " 165.65500106 114.99350057 116.68140153  88.37779857 149.00130158\n",
            " 120.53899935  89.66439964 112.2240003  117.49400026 118.83160116\n",
            "  88.14599946  94.07419998 116.94770006 118.71140166 120.27950055\n",
            " 126.70779822 121.96149986 150.20480068 164.50769988 118.57759968\n",
            " 120.48360135 150.34700058 118.59839894 173.1626989  105.92169924\n",
            " 104.99640115 150.21700181 113.79410104 124.84660092 147.34969974\n",
            " 119.66130129 115.25720014 112.74340021 113.55020209 142.05750141\n",
            " 117.83549772 102.9785006  115.82870124 103.57440175  98.82940056\n",
            " 117.50930049  90.87199982  91.61039999 153.359399   102.68629993\n",
            " 154.37750098 114.51730157 138.07020081  89.9327982  115.50869956\n",
            " 114.70289974 122.56070034 121.9125     165.47640163  92.87379968\n",
            " 135.17010117 121.32309942 120.7679008  104.46260016 141.30190327\n",
            " 121.55369924 116.57400041 113.29440107 127.13309745 122.65169942\n",
            " 125.73489986 121.18020039  86.89059898 132.44920159 144.70270155\n",
            "  92.65199973 159.5125001  159.49070197 126.48039905 164.65289914\n",
            " 108.93569978 109.78670084 103.44089801  94.32900046 127.98420312\n",
            " 107.12560068 162.60889981 121.77439992 131.87650006 130.598702\n",
            " 160.68729942  89.9240982  175.22840109 127.58900021 126.76429857\n",
            "  86.1382988  124.62749928 150.40459739  89.64929977 107.04749953\n",
            " 109.04559976  84.17559927 136.34309995 155.21650252 140.17730352\n",
            "  74.05820026 152.35940068 126.58539995 126.78680016 127.51489855\n",
            " 108.62029923 156.4647001  114.48800106 116.94960143 125.06259987\n",
            " 154.09000072 121.36800012 156.43029879  92.92820038 125.49370136\n",
            " 125.56840052  87.83390023  92.18909945 126.24029909 128.43020371\n",
            " 113.23640033 117.6092975  121.00709998 127.08649793 119.7594008\n",
            " 136.38990069  93.94949933 119.87920006 113.15330094  94.2725994\n",
            " 108.9057      87.55669945 109.11449937  89.58479961  92.48440028\n",
            " 131.7559036  162.33230051  89.2733001  119.75070077 133.24340211\n",
            " 123.87980024 128.32420118 101.94559827  89.12449886 131.66600056\n",
            " 119.83820029 108.98260016 167.72140109 115.05780034  86.59549882\n",
            " 118.90300057  91.09009966 161.86269996 116.38629998 121.67380031\n",
            " 160.05379915 120.05619929 112.64979962 108.21349853 126.64199997\n",
            "  75.92370022 102.99569976 127.64970267 121.77959926  92.60070038\n",
            " 132.06130077 117.90210141 115.99719965 154.76430263 159.10180053\n",
            " 109.93409954 152.47939734 119.40460102 160.7345004  118.61470075\n",
            " 158.43659861 115.14069971 116.49810041 148.36479859 114.79570068\n",
            " 125.78049896 166.9052989  117.89990055 125.16689952 153.04000402\n",
            " 153.50330241 132.13850004 114.79190047 121.25990198 124.82870096\n",
            "  89.57960076 123.54409981 155.30060176 111.5971002  106.8479995\n",
            " 162.04460134 118.5124997  165.67260036 133.90180133 114.88249922\n",
            " 152.98889918 168.54949981 115.31800012 114.02570092 158.8975989\n",
            "  85.43479874 127.08830006 127.87840052 129.08919936 124.26070062\n",
            " 123.99840088  90.5354009  152.93639983  97.29809955 136.0964\n",
            "  89.39969914 107.30250004 114.90280013 112.77080086 124.17169905\n",
            "  91.41539855 125.41490141 162.249098   120.04389906 165.23760128\n",
            " 126.76109829 112.08370017 127.6681993   94.906799    90.51839978\n",
            " 103.24729901 120.91099986  83.58179964 126.35460006 160.29980388\n",
            " 117.2607008  118.06499976 120.06880005 122.61189977 119.96210113\n",
            " 121.33960046 117.88880043 107.09980008 148.22789988 126.26469824\n",
            " 115.63930061  73.92239991 127.84780091 153.08600059 122.69839985\n",
            " 125.61950046  88.88080006 103.61019841 124.51710059 120.24260059\n",
            "  73.42860067 151.45639995 121.42810054 104.67340006  86.41989757\n",
            " 115.25419906 172.19409917 120.03260042 159.17259787 113.20329977\n",
            " 121.44490023 118.13040119  95.90119996 118.6934998  125.63459999\n",
            " 118.51019979  96.1933007  154.03720144 122.0323001  147.48479992\n",
            " 159.58260166 113.72570029 122.62969928 149.8441983  126.78650008\n",
            " 165.84540026 135.82070007 120.06759972 167.51399878 108.293899\n",
            " 121.55129874 138.60460116 106.74489881]\n"
          ]
        }
      ]
    },
    {
      "cell_type": "code",
      "metadata": {
        "colab": {
          "base_uri": "https://localhost:8080/"
        },
        "id": "gc8E3K3WbLMc",
        "outputId": "1309167b-b60f-40b8-bfc9-f71bda48f250"
      },
      "source": [
        "# R squared error\n",
        "error_score = metrics.r2_score(Y_test, test_data_prediction)\n",
        "print(\"R squared error : \", error_score)"
      ],
      "execution_count": 32,
      "outputs": [
        {
          "output_type": "stream",
          "name": "stdout",
          "text": [
            "R squared error :  0.9885880563639501\n"
          ]
        }
      ]
    },
    {
      "cell_type": "code",
      "metadata": {
        "id": "iSklH7ZWbRuD"
      },
      "source": [
        "Y_test = list(Y_test)"
      ],
      "execution_count": 33,
      "outputs": []
    },
    {
      "cell_type": "code",
      "metadata": {
        "colab": {
          "base_uri": "https://localhost:8080/",
          "height": 295
        },
        "id": "MtcjTQWMbWLC",
        "outputId": "d2cf126a-ca92-41b8-a90e-72117ce0f28b"
      },
      "source": [
        "plt.plot(Y_test, color='blue', label = 'Actual Value')\n",
        "plt.plot(test_data_prediction, color='green', label='Predicted Value')\n",
        "plt.title('Actual Price vs Predicted Price')\n",
        "plt.xlabel('Number of values')\n",
        "plt.ylabel('GLD Price')\n",
        "plt.legend()\n",
        "plt.show()"
      ],
      "execution_count": 34,
      "outputs": [
        {
          "output_type": "display_data",
          "data": {
            "image/png": "[encoded data removed]",
            "text/plain": [
              "<Figure size 432x288 with 1 Axes>"
            ]
          },
          "metadata": {
            "needs_background": "light"
          }
        }
      ]
    },
    {
      "cell_type": "code",
      "metadata": {
        "id": "_437gol-beqi"
      },
      "source": [
        ""
      ],
      "execution_count": null,
      "outputs": []
    }
  ]
}